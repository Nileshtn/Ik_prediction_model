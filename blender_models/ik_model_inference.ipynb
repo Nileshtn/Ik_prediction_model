{
 "cells": [
  {
   "cell_type": "code",
   "execution_count": 2,
   "metadata": {},
   "outputs": [],
   "source": [
    "import pandas as pd\n",
    "import torch\n",
    "from torch import nn, optim\n",
    "import numpy as np\n",
    "import matplotlib.pyplot as plt"
   ]
  },
  {
   "cell_type": "code",
   "execution_count": 14,
   "metadata": {},
   "outputs": [],
   "source": [
    "data_df= pd.read_csv(r'D:\\python\\PYTORCH\\blender_models\\ik_blender\\ik_test_data.csv',index_col=False)\n",
    "location_lable = data_df.iloc[:,1:3]\n",
    "angle_input = data_df.iloc[:,3:]\n",
    "\n",
    "input_array = location_lable.values\n",
    "lable_array = angle_input.values\n",
    "device = torch.device('cuda:0')\n",
    "#just converting it to tensor\n",
    "input_tensor= torch.tensor(input_array, dtype=torch.float32).to(device)\n",
    "# actual_out = torch.tensor(lable_array, dtype=torch.float32).to(device)"
   ]
  },
  {
   "cell_type": "code",
   "execution_count": 7,
   "metadata": {},
   "outputs": [
    {
     "data": {
      "text/plain": [
       "Sequential(\n",
       "  (0): Linear(in_features=2, out_features=20, bias=True)\n",
       "  (1): ReLU()\n",
       "  (2): Linear(in_features=20, out_features=80, bias=True)\n",
       "  (3): ReLU()\n",
       "  (4): Linear(in_features=80, out_features=60, bias=True)\n",
       "  (5): ReLU()\n",
       "  (6): Linear(in_features=60, out_features=30, bias=True)\n",
       "  (7): ReLU()\n",
       "  (8): Linear(in_features=30, out_features=3, bias=True)\n",
       ")"
      ]
     },
     "execution_count": 7,
     "metadata": {},
     "output_type": "execute_result"
    }
   ],
   "source": [
    "IkPrdt = nn.Sequential(nn.Linear(2,20),\n",
    "                       nn.ReLU(),\n",
    "                       nn.Linear(20,80),\n",
    "                       nn.ReLU(),\n",
    "                       nn.Linear(80,60),\n",
    "                       nn.ReLU(),\n",
    "                       nn.Linear(60,30),\n",
    "                       nn.ReLU(),\n",
    "                       nn.Linear(30,3)\n",
    "                      )\n",
    "\n",
    "IkPrdt = torch.load(r\"D:\\python\\PYTORCH\\blender_models\\weights\\ikprdt_360deg_v1.pth\")\n",
    "IkPrdt.to(device)\n",
    "\n"
   ]
  },
  {
   "cell_type": "code",
   "execution_count": 42,
   "metadata": {},
   "outputs": [
    {
     "data": {
      "text/plain": [
       "tensor([226.6678, 179.9176, 178.8677], device='cuda:0', grad_fn=<AddBackward0>)"
      ]
     },
     "execution_count": 42,
     "metadata": {},
     "output_type": "execute_result"
    }
   ],
   "source": [
    "x = [-3,-3]\n",
    "\n",
    "x = torch.tensor(x, dtype=torch.float32).to(device)\n",
    "output = IkPrdt(x)\n",
    "output"
   ]
  },
  {
   "cell_type": "code",
   "execution_count": null,
   "metadata": {},
   "outputs": [],
   "source": []
  }
 ],
 "metadata": {
  "kernelspec": {
   "display_name": "base",
   "language": "python",
   "name": "python3"
  },
  "language_info": {
   "codemirror_mode": {
    "name": "ipython",
    "version": 3
   },
   "file_extension": ".py",
   "mimetype": "text/x-python",
   "name": "python",
   "nbconvert_exporter": "python",
   "pygments_lexer": "ipython3",
   "version": "3.10.9"
  },
  "orig_nbformat": 4
 },
 "nbformat": 4,
 "nbformat_minor": 2
}
