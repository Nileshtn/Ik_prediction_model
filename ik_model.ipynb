{
 "cells": [
  {
   "cell_type": "code",
   "execution_count": 1,
   "metadata": {},
   "outputs": [],
   "source": [
    "import pandas as pd\n",
    "import torch\n",
    "from torch import nn, optim\n",
    "import numpy as np"
   ]
  },
  {
   "cell_type": "code",
   "execution_count": 4,
   "metadata": {},
   "outputs": [],
   "source": [
    "# data_df= pd.read_csv(r'D:\\python\\PYTORCH\\blender_models\\ik_blender\\ik_data.csv',index_col=False)\n",
    "# location_lable = data_df.iloc[:,1:3]\n",
    "# angle_input = data_df.iloc[:,3:]\n",
    "\n",
    "# lable_array = location_lable.values\n",
    "# input_array = angle_input.values\n",
    "\n",
    "# #just converting it to tensor\n",
    "# labels_tensor = torch.tensor(lable_array)\n",
    "# inputs_tensor = torch.tensor(input_array)\n",
    "\n",
    "# dataset = torch.utils.data.TensorDataset(inputs_tensor, labels_tensor)\n",
    "\n",
    "# train_loader = torch.utils.data.DataLoader(dataset, batch_size=40, shuffle=True)\n",
    "device = torch.device('cuda:0')"
   ]
  },
  {
   "cell_type": "code",
   "execution_count": 5,
   "metadata": {},
   "outputs": [
    {
     "data": {
      "text/plain": [
       "Sequential(\n",
       "  (0): Linear(in_features=2, out_features=20, bias=True)\n",
       "  (1): ReLU()\n",
       "  (2): Linear(in_features=20, out_features=80, bias=True)\n",
       "  (3): ReLU()\n",
       "  (4): Linear(in_features=80, out_features=60, bias=True)\n",
       "  (5): ReLU()\n",
       "  (6): Linear(in_features=60, out_features=30, bias=True)\n",
       "  (7): ReLU()\n",
       "  (8): Linear(in_features=30, out_features=3, bias=True)\n",
       ")"
      ]
     },
     "execution_count": 5,
     "metadata": {},
     "output_type": "execute_result"
    }
   ],
   "source": [
    "IkPrdt = nn.Sequential(nn.Linear(3, 120 ),\n",
    "                      nn.ReLU(),\n",
    "                      nn.Linear(120,120),\n",
    "                      nn.ReLU(),\n",
    "                      nn.Linear(120,60),\n",
    "                      nn.ReLU(),\n",
    "                      nn.Linear(60,2)\n",
    "                      )\n",
    "\n",
    "IkPrdt = torch.load(r\"C:\\Users\\Nilesh\\Desktop\\blender_models\\weights\\ikprdt_360deg_v2.pth\")\n",
    "IkPrdt.to(device)\n",
    "# criterion = nn.HuberLoss()\n",
    "# optimizer = optim.SGD(IkPrdt.parameters(), lr=0.01)\n",
    "# epoch = 100\n",
    "\n"
   ]
  },
  {
   "cell_type": "code",
   "execution_count": 11,
   "metadata": {},
   "outputs": [
    {
     "data": {
      "text/plain": [
       "[67.98420715332031, 152.4823760986328, 160.8871612548828]"
      ]
     },
     "execution_count": 11,
     "metadata": {},
     "output_type": "execute_result"
    }
   ],
   "source": [
    "x = [2,2]\n",
    "x = torch.tensor(x, dtype=torch.float32).to(device)\n",
    "output = IkPrdt(x)\n",
    "output = output.cpu().detach().numpy().tolist()\n",
    "output\n"
   ]
  },
  {
   "cell_type": "code",
   "execution_count": 10,
   "metadata": {},
   "outputs": [
    {
     "data": {
      "text/plain": [
       "45.9888"
      ]
     },
     "execution_count": 10,
     "metadata": {},
     "output_type": "execute_result"
    }
   ],
   "source": [
    "225.9888-180"
   ]
  },
  {
   "cell_type": "code",
   "execution_count": null,
   "metadata": {},
   "outputs": [],
   "source": []
  }
 ],
 "metadata": {
  "kernelspec": {
   "display_name": "base",
   "language": "python",
   "name": "python3"
  },
  "language_info": {
   "codemirror_mode": {
    "name": "ipython",
    "version": 3
   },
   "file_extension": ".py",
   "mimetype": "text/x-python",
   "name": "python",
   "nbconvert_exporter": "python",
   "pygments_lexer": "ipython3",
   "version": "3.10.9"
  },
  "orig_nbformat": 4
 },
 "nbformat": 4,
 "nbformat_minor": 2
}
